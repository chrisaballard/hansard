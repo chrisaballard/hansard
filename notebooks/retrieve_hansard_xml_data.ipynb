{
 "cells": [
  {
   "cell_type": "code",
   "execution_count": 1,
   "metadata": {},
   "outputs": [],
   "source": [
    "import requests"
   ]
  },
  {
   "cell_type": "code",
   "execution_count": 2,
   "metadata": {},
   "outputs": [],
   "source": [
    "hansard_xml_url = \"https://www.theyworkforyou.com/pwdata/scrapedxml/debates/\""
   ]
  },
  {
   "cell_type": "code",
   "execution_count": 3,
   "metadata": {},
   "outputs": [
    {
     "name": "stdout",
     "output_type": "stream",
     "text": [
      "['2022-01-01', '2022-01-02', '2022-01-03', '2022-01-04', '2022-01-05']\n"
     ]
    }
   ],
   "source": [
    "from datetime import datetime, timedelta\n",
    "\n",
    "def generate_date_range(start_date, end_date):\n",
    "    date_list = []\n",
    "    current_date = start_date\n",
    "\n",
    "    while current_date <= end_date:\n",
    "        date_list.append(current_date.strftime(\"%Y-%m-%d\"))\n",
    "        current_date += timedelta(days=1)\n",
    "\n",
    "    return date_list\n",
    "\n",
    "# Example usage:\n",
    "start_date = datetime(2022, 1, 1)\n",
    "end_date = datetime(2022, 1, 5)\n",
    "date_range = generate_date_range(start_date, end_date)\n",
    "print(date_range)"
   ]
  },
  {
   "cell_type": "code",
   "execution_count": 35,
   "metadata": {},
   "outputs": [],
   "source": [
    "def download_xml_file(hansard_xml_url: str, file_date: str):\n",
    "    file_version_suffixes = [chr(i) for i in range(ord('a'), ord('z')+1)]\n",
    "    for file_version_suffix in file_version_suffixes:\n",
    "        xml_filename = f\"debates{file_date}{file_version_suffix}.xml\"\n",
    "        response = requests.get(f\"{hansard_xml_url}/{xml_filename}\")\n",
    "    \n",
    "        if response.status_code == 200:\n",
    "            with open(f\"..\\\\data\\\\{xml_filename}\", 'wb') as file:\n",
    "                file.write(response.content)\n",
    "            print(f'{xml_filename} downloaded successfully.')\n",
    "        else:\n",
    "            break"
   ]
  },
  {
   "cell_type": "code",
   "execution_count": 37,
   "metadata": {},
   "outputs": [
    {
     "name": "stdout",
     "output_type": "stream",
     "text": [
      "debates2023-03-01a.xml downloaded successfully.\n",
      "debates2023-03-01b.xml downloaded successfully.\n",
      "debates2023-03-02a.xml downloaded successfully.\n",
      "debates2023-03-02b.xml downloaded successfully.\n",
      "debates2023-03-03a.xml downloaded successfully.\n",
      "debates2023-03-06a.xml downloaded successfully.\n",
      "debates2023-03-06b.xml downloaded successfully.\n",
      "debates2023-03-06c.xml downloaded successfully.\n",
      "debates2023-03-06d.xml downloaded successfully.\n",
      "debates2023-03-07a.xml downloaded successfully.\n",
      "debates2023-03-07b.xml downloaded successfully.\n",
      "debates2023-03-08a.xml downloaded successfully.\n",
      "debates2023-03-08b.xml downloaded successfully.\n",
      "debates2023-03-09a.xml downloaded successfully.\n",
      "debates2023-03-09b.xml downloaded successfully.\n",
      "debates2023-03-13a.xml downloaded successfully.\n",
      "debates2023-03-13b.xml downloaded successfully.\n",
      "debates2023-03-14a.xml downloaded successfully.\n",
      "debates2023-03-14b.xml downloaded successfully.\n",
      "debates2023-03-14c.xml downloaded successfully.\n",
      "debates2023-03-14d.xml downloaded successfully.\n"
     ]
    }
   ],
   "source": [
    "start_date = datetime(2023, 3, 1)\n",
    "end_date = datetime(2023, 3, 14)\n",
    "for xml_file_date in generate_date_range(start_date, end_date):\n",
    "    download_xml_file(hansard_xml_url, xml_file_date)"
   ]
  },
  {
   "cell_type": "code",
   "execution_count": null,
   "metadata": {},
   "outputs": [],
   "source": []
  }
 ],
 "metadata": {
  "kernelspec": {
   "display_name": "hansard-cPLp1Gv9",
   "language": "python",
   "name": "python3"
  },
  "language_info": {
   "codemirror_mode": {
    "name": "ipython",
    "version": 3
   },
   "file_extension": ".py",
   "mimetype": "text/x-python",
   "name": "python",
   "nbconvert_exporter": "python",
   "pygments_lexer": "ipython3",
   "version": "3.11.8"
  }
 },
 "nbformat": 4,
 "nbformat_minor": 2
}
